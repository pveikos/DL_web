{
 "cells": [
  {
   "cell_type": "code",
   "execution_count": 2,
   "id": "15375563",
   "metadata": {},
   "outputs": [],
   "source": [
    "import os\n",
    "import pandas as pd\n",
    "file2 = open('data/recipes_filtered_all.txt', 'r')\n",
    "class_s = []\n",
    "url_s = []\n",
    "img_path_s = []\n",
    "rate_s = []\n",
    "nutr_s = []\n",
    "ings_s = []\n",
    "for i in file2.readlines():\n",
    "    r = i.split('|')\n",
    "    class_ = r[0]\n",
    "    url = r[1]\n",
    "    img_path = r[2]\n",
    "    rate = r[3]\n",
    "    nutr = r[4]\n",
    "    ings = r[5]\n",
    "    class_s.append(class_)\n",
    "    url_s.append(url)\n",
    "    img_path_s.append(img_path)\n",
    "    rate_s.append(rate)\n",
    "    nutr_s.append(nutr)\n",
    "    ings_s.append(ings)\n",
    "\n",
    "file2.close()\n",
    "\n",
    "df = pd.DataFrame({'class':class_s, 'url':url_s, 'image_path':img_path_s, 'ratings':rate_s,\n",
    "                  'nutrition_facts':nutr_s, 'ingredients':ings_s})\n",
    "df.to_csv('recipe_table.csv')"
   ]
  },
  {
   "cell_type": "code",
   "execution_count": null,
   "id": "e5d31ceb",
   "metadata": {},
   "outputs": [],
   "source": []
  }
 ],
 "metadata": {
  "kernelspec": {
   "display_name": "final_proj",
   "language": "python",
   "name": "final_proj"
  },
  "language_info": {
   "codemirror_mode": {
    "name": "ipython",
    "version": 3
   },
   "file_extension": ".py",
   "mimetype": "text/x-python",
   "name": "python",
   "nbconvert_exporter": "python",
   "pygments_lexer": "ipython3",
   "version": "3.7.13"
  }
 },
 "nbformat": 4,
 "nbformat_minor": 5
}
