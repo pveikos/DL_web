{
 "cells": [
  {
   "cell_type": "code",
   "execution_count": null,
   "metadata": {},
   "outputs": [],
   "source": [
    "import urllib.request as urllib2\n",
    "import json\n",
    "import collections, itertools\n",
    "import requests\n",
    "import csv\n",
    "import requests\n",
    "import shutil\n",
    "import os\n",
    "import re\n",
    "import numpy as np\n",
    "\n",
    "from bs4 import BeautifulSoup"
   ]
  },
  {
   "cell_type": "code",
   "execution_count": null,
   "metadata": {},
   "outputs": [],
   "source": [
    "#!pip install recipe_scrapers"
   ]
  },
  {
   "cell_type": "code",
   "execution_count": null,
   "metadata": {},
   "outputs": [],
   "source": [
    "from recipe_scrapers import scrape_me\n",
    "def save_image_fn(dish, image_url, num):\n",
    "    #save image to file \n",
    "    resp = requests.get(image_url, stream=True)\n",
    "    if not os.path.exists(\"data/\" + dish):\n",
    "        os.makedirs(\"data/\" + dish)\n",
    "    local_file = open(\"data/\" + dish + \"/\" + str(num) + \"_fn.jpg\", 'wb')\n",
    "    resp.raw.decode_content = True\n",
    "    shutil.copyfileobj(resp.raw, local_file)\n",
    "    del resp\n",
    "    return\n",
    "\n",
    "def main_scrape(recipe_url_dict):\n",
    "    #Take food types from classes.txt and search AllRecipes for links\n",
    "    #Pagecount is how many pages to pull, each page has 25 results I think\n",
    "    global f\n",
    "    f = open('data/recipes_2.txt', 'w')\n",
    "    for food_class in recipe_url_dict.keys():\n",
    "        count = 0\n",
    "        dish = food_class\n",
    "        print(dish)\n",
    "        for rec in recipe_url_dict[dish]:\n",
    "            scraper = scrape_me(rec)\n",
    "            try:\n",
    "                nutrition_d = scraper.nutrients()\n",
    "                nutrition = []\n",
    "                for i in nutrition_d:\n",
    "                    ty = i.replace('Content', '').lower()\n",
    "                    \n",
    "                    va = nutrition_d[i].lower().replace('milli', 'm').replace('grams', 'g')\n",
    "                    if 'calories' in ty:\n",
    "                        nutrition.append(va)\n",
    "                    else:\n",
    "                        nutrition.append(ty+' '+va)\n",
    "            except:\n",
    "                print('no_nutr')\n",
    "                continue\n",
    "            ingredients = scraper.ingredients()\n",
    "            try:\n",
    "                img = scraper.image()\n",
    "                save_image_fn(dish, img, count)\n",
    "            except:\n",
    "                continue\n",
    "            \n",
    "            \n",
    "            result = \"|\".join([dish, rec, dish + \"/\" + str(count) + \"_fn.jpg\", f\"rating={'None'}\", str(nutrition), str(ingredients)]) + \"\\n\"\n",
    "            try:\n",
    "                f.write(result)\n",
    "                count+=1\n",
    "            except Exception as e:\n",
    "                print(e)\n",
    "                print(result)\n",
    "                continue\n",
    "            print(count)\n",
    "            if count>20:\n",
    "                break\n",
    "    \n",
    "    f.close()"
   ]
  },
  {
   "cell_type": "code",
   "execution_count": null,
   "metadata": {},
   "outputs": [],
   "source": [
    "# f.close()"
   ]
  },
  {
   "cell_type": "code",
   "execution_count": null,
   "metadata": {},
   "outputs": [],
   "source": [
    "search_dict = {'beef_tartare': 'https://www.yummly.com/recipes?q=steak%20tartare&sortBy=rel',\n",
    "'cheese_plate': 'https://www.yummly.com/recipes?q=cheese%20plate&sortBy=rel',\n",
    "'takoyaki': 'https://www.yummly.com/recipes?q=takoyaki&sortBy=rel',\n",
    "'beef_carpaccio': 'https://www.yummly.com/recipes?q=carpaccio&sortBy=rel',\n",
    "'sashimi': 'https://www.yummly.com/recipes?q=sashimi&sortBy=rel',\n",
    "'bibimbap': 'https://www.yummly.com/recipes?q=bibimbap&sortBy=rel',\n",
    "'escargots': 'https://www.yummly.com/recipes?q=escargots&sortBy=rel',\n",
    "'hamburger':    'https://www.yummly.com/recipes?q=hamburger&sortBy=rel',\n",
    "'fish_and_chips': 'https://www.yummly.com/recipes?q=fish%20and%20chips&sortBy=rel',\n",
    "'croque_madame': 'https://www.yummly.com/recipes?q=croque%20madame&sortBy=rel',\n",
    "'macarons': 'https://www.yummly.com/recipes?q=croque%20macarons&sortBy=rel',\n",
    "'tuna_tartare': 'https://www.yummly.com/recipes?q=tuna%20tartare&sortBy=rel',\n",
    "'gyoza': 'https://www.yummly.com/recipes?q=gyoza&sortBy=rel',\n",
    "'seaweed_salad': 'https://www.yummly.com/recipes?q=seaweed%20salad&sortBy=rel',\n",
    "'club_sandwich': 'https://www.yummly.com/recipes?q=club%20sandwich&sortBy=rel',\n",
    "'churros': 'https://www.yummly.com/recipes?q=churros&sortBy=rel',\n",
    "'poutine': 'https://www.yummly.com/recipes?q=poutine&sortBy=rel',}"
   ]
  },
  {
   "cell_type": "code",
   "execution_count": null,
   "metadata": {},
   "outputs": [],
   "source": [
    "rec_url_dict = {}\n",
    "for i in search_dict:\n",
    "    url_list = []\n",
    "    scraper = scrape_me(search_dict[i])\n",
    "    for x in scraper.links():\n",
    "        if 'class' in x.keys():\n",
    "            if 'link-overlay' in x['class']:\n",
    "                url_list.append('https://www.yummly.com'+x['href'])\n",
    "    rec_url_dict[i] = url_list"
   ]
  },
  {
   "cell_type": "code",
   "execution_count": null,
   "metadata": {},
   "outputs": [],
   "source": [
    "main_scrape(rec_url_dict)"
   ]
  },
  {
   "cell_type": "code",
   "execution_count": null,
   "metadata": {},
   "outputs": [],
   "source": [
    "import os\n",
    "# os.path.isfile(path)\n",
    "file1 = open(\"data/recipes_2.txt\",\"r\")\n",
    "file2 = open('data/recipes_filtered_2.txt', 'w')\n",
    "for i in file1.readlines():\n",
    "    img_path = i.split('|')[2]\n",
    "    nutr = i.split('|')[4]\n",
    "\n",
    "    if os.path.isfile('data/'+img_path) and len(nutr)>5:\n",
    "        file2.write(i)\n",
    "    else:\n",
    "        pass\n",
    "file1.close()\n",
    "file2.close()"
   ]
  },
  {
   "cell_type": "code",
   "execution_count": null,
   "metadata": {},
   "outputs": [],
   "source": [
    "file = open(\"classes.txt\", \"r\")\n",
    "\n",
    "all_classes = file.readlines()\n",
    "class_counts = {}\n",
    "for i in all_classes:\n",
    "    j = i.replace('\\n', '')\n",
    "    class_counts[j]=0\n",
    "pics = open(\"data/recipes_filtered_all.txt\", 'r')\n",
    "all_pics = pics.readlines()\n",
    "for i in all_pics:\n",
    "    clas = i.split('|')[0]\n",
    "    class_counts[clas]+=1\n",
    "file.close()\n",
    "pics.close()"
   ]
  },
  {
   "cell_type": "code",
   "execution_count": null,
   "metadata": {},
   "outputs": [],
   "source": [
    "import pandas as pd\n",
    "count_df = pd.DataFrame({'class':class_counts.keys(), 'count':class_counts.values()})\n",
    "count_df[count_df['count']<20].sort_values(by='count')"
   ]
  },
  {
   "cell_type": "code",
   "execution_count": null,
   "metadata": {},
   "outputs": [],
   "source": []
  }
 ],
 "metadata": {
  "kernelspec": {
   "display_name": "final_proj",
   "language": "python",
   "name": "final_proj"
  },
  "language_info": {
   "codemirror_mode": {
    "name": "ipython",
    "version": 3
   },
   "file_extension": ".py",
   "mimetype": "text/x-python",
   "name": "python",
   "nbconvert_exporter": "python",
   "pygments_lexer": "ipython3",
   "version": "3.7.13"
  }
 },
 "nbformat": 4,
 "nbformat_minor": 4
}
